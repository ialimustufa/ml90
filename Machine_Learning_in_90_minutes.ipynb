{
  "nbformat": 4,
  "nbformat_minor": 0,
  "metadata": {
    "kernelspec": {
      "display_name": "Python 3",
      "language": "python",
      "name": "python3"
    },
    "language_info": {
      "codemirror_mode": {
        "name": "ipython",
        "version": 3
      },
      "file_extension": ".py",
      "mimetype": "text/x-python",
      "name": "python",
      "nbconvert_exporter": "python",
      "pygments_lexer": "ipython3",
      "version": "3.7.6"
    },
    "colab": {
      "name": "Machine Learning in 90 minutes",
      "provenance": [],
      "collapsed_sections": [],
      "include_colab_link": true
    }
  },
  "cells": [
    {
      "cell_type": "markdown",
      "metadata": {
        "id": "view-in-github",
        "colab_type": "text"
      },
      "source": [
        "<a href=\"https://colab.research.google.com/github/ialimustufa/ml90/blob/master/Machine_Learning_in_90_minutes.ipynb\" target=\"_parent\"><img src=\"https://colab.research.google.com/assets/colab-badge.svg\" alt=\"Open In Colab\"/></a>"
      ]
    },
    {
      "cell_type": "code",
      "metadata": {
        "id": "mOO92Gzb6M1G"
      },
      "source": [
        "import pandas as pd\n",
        "import numpy as np"
      ],
      "execution_count": 39,
      "outputs": []
    },
    {
      "cell_type": "code",
      "metadata": {
        "id": "rPLYPINfP1_i"
      },
      "source": [
        "#!wget https://storage.googleapis.com/datasetsbyali/Social_Network_Ads.csv #Download on Local"
      ],
      "execution_count": 40,
      "outputs": []
    },
    {
      "cell_type": "code",
      "metadata": {
        "id": "GZHPRUsN6M1L",
        "colab": {
          "base_uri": "https://localhost:8080/",
          "height": 203
        },
        "outputId": "dd6bbb9e-9ac8-4cb8-fb76-839a6d78fad7"
      },
      "source": [
        "ds=pd.read_csv(\"https://storage.googleapis.com/datasetsbyali/Social_Network_Ads.csv\")\n",
        "ds.head()"
      ],
      "execution_count": 41,
      "outputs": [
        {
          "output_type": "execute_result",
          "data": {
            "text/html": [
              "<div>\n",
              "<style scoped>\n",
              "    .dataframe tbody tr th:only-of-type {\n",
              "        vertical-align: middle;\n",
              "    }\n",
              "\n",
              "    .dataframe tbody tr th {\n",
              "        vertical-align: top;\n",
              "    }\n",
              "\n",
              "    .dataframe thead th {\n",
              "        text-align: right;\n",
              "    }\n",
              "</style>\n",
              "<table border=\"1\" class=\"dataframe\">\n",
              "  <thead>\n",
              "    <tr style=\"text-align: right;\">\n",
              "      <th></th>\n",
              "      <th>User ID</th>\n",
              "      <th>Gender</th>\n",
              "      <th>Age</th>\n",
              "      <th>EstimatedSalary</th>\n",
              "      <th>Purchased</th>\n",
              "    </tr>\n",
              "  </thead>\n",
              "  <tbody>\n",
              "    <tr>\n",
              "      <th>0</th>\n",
              "      <td>15624510</td>\n",
              "      <td>Male</td>\n",
              "      <td>19</td>\n",
              "      <td>19000</td>\n",
              "      <td>0</td>\n",
              "    </tr>\n",
              "    <tr>\n",
              "      <th>1</th>\n",
              "      <td>15810944</td>\n",
              "      <td>Male</td>\n",
              "      <td>35</td>\n",
              "      <td>20000</td>\n",
              "      <td>0</td>\n",
              "    </tr>\n",
              "    <tr>\n",
              "      <th>2</th>\n",
              "      <td>15668575</td>\n",
              "      <td>Female</td>\n",
              "      <td>26</td>\n",
              "      <td>43000</td>\n",
              "      <td>0</td>\n",
              "    </tr>\n",
              "    <tr>\n",
              "      <th>3</th>\n",
              "      <td>15603246</td>\n",
              "      <td>Female</td>\n",
              "      <td>27</td>\n",
              "      <td>57000</td>\n",
              "      <td>0</td>\n",
              "    </tr>\n",
              "    <tr>\n",
              "      <th>4</th>\n",
              "      <td>15804002</td>\n",
              "      <td>Male</td>\n",
              "      <td>19</td>\n",
              "      <td>76000</td>\n",
              "      <td>0</td>\n",
              "    </tr>\n",
              "  </tbody>\n",
              "</table>\n",
              "</div>"
            ],
            "text/plain": [
              "    User ID  Gender  Age  EstimatedSalary  Purchased\n",
              "0  15624510    Male   19            19000          0\n",
              "1  15810944    Male   35            20000          0\n",
              "2  15668575  Female   26            43000          0\n",
              "3  15603246  Female   27            57000          0\n",
              "4  15804002    Male   19            76000          0"
            ]
          },
          "metadata": {
            "tags": []
          },
          "execution_count": 41
        }
      ]
    },
    {
      "cell_type": "code",
      "metadata": {
        "id": "J7ZMo-uq6M1O",
        "colab": {
          "base_uri": "https://localhost:8080/"
        },
        "outputId": "de70d7ba-3b48-4d61-ee9d-2573b129e740"
      },
      "source": [
        "ds['Purchased'].unique() #check if Classification or Regression!"
      ],
      "execution_count": 42,
      "outputs": [
        {
          "output_type": "execute_result",
          "data": {
            "text/plain": [
              "array([0, 1])"
            ]
          },
          "metadata": {
            "tags": []
          },
          "execution_count": 42
        }
      ]
    },
    {
      "cell_type": "markdown",
      "metadata": {
        "id": "BG7CYNQ96M1R"
      },
      "source": [
        "# Classification Problem\n",
        "### \"Purchased\" column has ony 2 unique values, so it is basically Binary Classification problem"
      ]
    },
    {
      "cell_type": "code",
      "metadata": {
        "id": "b0-_whVd6M1S",
        "colab": {
          "base_uri": "https://localhost:8080/"
        },
        "outputId": "38b013da-c813-4a89-c3e4-63cd4d33938f"
      },
      "source": [
        "ds.isnull().any() #check for null values"
      ],
      "execution_count": 43,
      "outputs": [
        {
          "output_type": "execute_result",
          "data": {
            "text/plain": [
              "User ID            False\n",
              "Gender             False\n",
              "Age                False\n",
              "EstimatedSalary    False\n",
              "Purchased          False\n",
              "dtype: bool"
            ]
          },
          "metadata": {
            "tags": []
          },
          "execution_count": 43
        }
      ]
    },
    {
      "cell_type": "code",
      "metadata": {
        "id": "K11-C4c_6M1U"
      },
      "source": [
        "# Label Encoding\n",
        "from sklearn.preprocessing import LabelEncoder\n",
        "le=LabelEncoder()\n",
        "\n",
        "#transforming non numerical labels (Gender) to numeric labels\n",
        "ds['Gender']=le.fit_transform(ds['Gender'])"
      ],
      "execution_count": 44,
      "outputs": []
    },
    {
      "cell_type": "code",
      "metadata": {
        "id": "4lLp5Yk_6M1W",
        "colab": {
          "base_uri": "https://localhost:8080/",
          "height": 358
        },
        "outputId": "a2d5965a-e3ff-412e-f30f-7892584249d8"
      },
      "source": [
        "ds.head(10)"
      ],
      "execution_count": 45,
      "outputs": [
        {
          "output_type": "execute_result",
          "data": {
            "text/html": [
              "<div>\n",
              "<style scoped>\n",
              "    .dataframe tbody tr th:only-of-type {\n",
              "        vertical-align: middle;\n",
              "    }\n",
              "\n",
              "    .dataframe tbody tr th {\n",
              "        vertical-align: top;\n",
              "    }\n",
              "\n",
              "    .dataframe thead th {\n",
              "        text-align: right;\n",
              "    }\n",
              "</style>\n",
              "<table border=\"1\" class=\"dataframe\">\n",
              "  <thead>\n",
              "    <tr style=\"text-align: right;\">\n",
              "      <th></th>\n",
              "      <th>User ID</th>\n",
              "      <th>Gender</th>\n",
              "      <th>Age</th>\n",
              "      <th>EstimatedSalary</th>\n",
              "      <th>Purchased</th>\n",
              "    </tr>\n",
              "  </thead>\n",
              "  <tbody>\n",
              "    <tr>\n",
              "      <th>0</th>\n",
              "      <td>15624510</td>\n",
              "      <td>1</td>\n",
              "      <td>19</td>\n",
              "      <td>19000</td>\n",
              "      <td>0</td>\n",
              "    </tr>\n",
              "    <tr>\n",
              "      <th>1</th>\n",
              "      <td>15810944</td>\n",
              "      <td>1</td>\n",
              "      <td>35</td>\n",
              "      <td>20000</td>\n",
              "      <td>0</td>\n",
              "    </tr>\n",
              "    <tr>\n",
              "      <th>2</th>\n",
              "      <td>15668575</td>\n",
              "      <td>0</td>\n",
              "      <td>26</td>\n",
              "      <td>43000</td>\n",
              "      <td>0</td>\n",
              "    </tr>\n",
              "    <tr>\n",
              "      <th>3</th>\n",
              "      <td>15603246</td>\n",
              "      <td>0</td>\n",
              "      <td>27</td>\n",
              "      <td>57000</td>\n",
              "      <td>0</td>\n",
              "    </tr>\n",
              "    <tr>\n",
              "      <th>4</th>\n",
              "      <td>15804002</td>\n",
              "      <td>1</td>\n",
              "      <td>19</td>\n",
              "      <td>76000</td>\n",
              "      <td>0</td>\n",
              "    </tr>\n",
              "    <tr>\n",
              "      <th>5</th>\n",
              "      <td>15728773</td>\n",
              "      <td>1</td>\n",
              "      <td>27</td>\n",
              "      <td>58000</td>\n",
              "      <td>0</td>\n",
              "    </tr>\n",
              "    <tr>\n",
              "      <th>6</th>\n",
              "      <td>15598044</td>\n",
              "      <td>0</td>\n",
              "      <td>27</td>\n",
              "      <td>84000</td>\n",
              "      <td>0</td>\n",
              "    </tr>\n",
              "    <tr>\n",
              "      <th>7</th>\n",
              "      <td>15694829</td>\n",
              "      <td>0</td>\n",
              "      <td>32</td>\n",
              "      <td>150000</td>\n",
              "      <td>1</td>\n",
              "    </tr>\n",
              "    <tr>\n",
              "      <th>8</th>\n",
              "      <td>15600575</td>\n",
              "      <td>1</td>\n",
              "      <td>25</td>\n",
              "      <td>33000</td>\n",
              "      <td>0</td>\n",
              "    </tr>\n",
              "    <tr>\n",
              "      <th>9</th>\n",
              "      <td>15727311</td>\n",
              "      <td>0</td>\n",
              "      <td>35</td>\n",
              "      <td>65000</td>\n",
              "      <td>0</td>\n",
              "    </tr>\n",
              "  </tbody>\n",
              "</table>\n",
              "</div>"
            ],
            "text/plain": [
              "    User ID  Gender  Age  EstimatedSalary  Purchased\n",
              "0  15624510       1   19            19000          0\n",
              "1  15810944       1   35            20000          0\n",
              "2  15668575       0   26            43000          0\n",
              "3  15603246       0   27            57000          0\n",
              "4  15804002       1   19            76000          0\n",
              "5  15728773       1   27            58000          0\n",
              "6  15598044       0   27            84000          0\n",
              "7  15694829       0   32           150000          1\n",
              "8  15600575       1   25            33000          0\n",
              "9  15727311       0   35            65000          0"
            ]
          },
          "metadata": {
            "tags": []
          },
          "execution_count": 45
        }
      ]
    },
    {
      "cell_type": "code",
      "metadata": {
        "id": "L0RyCH_X6M1a",
        "colab": {
          "base_uri": "https://localhost:8080/"
        },
        "outputId": "0b6af89a-af6a-461c-ceef-d0ae5e45a5c6"
      },
      "source": [
        "ds['Gender'].unique()\n",
        "# Only two unique values, so need of One Hot Encoding"
      ],
      "execution_count": 46,
      "outputs": [
        {
          "output_type": "execute_result",
          "data": {
            "text/plain": [
              "array([1, 0])"
            ]
          },
          "metadata": {
            "tags": []
          },
          "execution_count": 46
        }
      ]
    },
    {
      "cell_type": "code",
      "metadata": {
        "id": "xMl__5S96M1d"
      },
      "source": [
        "#we are seperating x and y values using iloc[]\n",
        "x=ds.iloc[:,1:4].values\n",
        "y=ds.iloc[:,4].values\n",
        "\n",
        "# iloc [ [Row_Start : Row_End] , [column-1, Colunm-2,column-n] ]"
      ],
      "execution_count": 47,
      "outputs": []
    },
    {
      "cell_type": "code",
      "metadata": {
        "id": "l7O5_b1rRTNi"
      },
      "source": [
        ""
      ],
      "execution_count": 47,
      "outputs": []
    },
    {
      "cell_type": "code",
      "metadata": {
        "id": "2JMYT6nF6M1g",
        "colab": {
          "base_uri": "https://localhost:8080/"
        },
        "outputId": "3505bfc0-7720-4ff1-a619-ff58db4692ee"
      },
      "source": [
        "x.shape"
      ],
      "execution_count": 48,
      "outputs": [
        {
          "output_type": "execute_result",
          "data": {
            "text/plain": [
              "(400, 3)"
            ]
          },
          "metadata": {
            "tags": []
          },
          "execution_count": 48
        }
      ]
    },
    {
      "cell_type": "code",
      "metadata": {
        "id": "9oTk_VNH6M1i",
        "colab": {
          "base_uri": "https://localhost:8080/"
        },
        "outputId": "cf4ebe66-6e46-419f-b0c3-3bc2cc10638c"
      },
      "source": [
        "# Splitting the data\n",
        "from sklearn.model_selection import train_test_split\n",
        "x_train,x_test,y_train,y_test=train_test_split(x,y,test_size=0.2)\n",
        "x_train.shape"
      ],
      "execution_count": 49,
      "outputs": [
        {
          "output_type": "execute_result",
          "data": {
            "text/plain": [
              "(320, 3)"
            ]
          },
          "metadata": {
            "tags": []
          },
          "execution_count": 49
        }
      ]
    },
    {
      "cell_type": "markdown",
      "metadata": {
        "id": "hn3d9alwMkXC"
      },
      "source": [
        "## StandardScaler \n",
        "\n",
        " It transforms the data in such a manner that it has mean as 0 and standard deviation as 1. In short, it standardizes the data. Standardization is useful for data which has negative values. It arranges the data in a standard normal distribution."
      ]
    },
    {
      "cell_type": "markdown",
      "metadata": {
        "id": "Kap4QZ78v53Q"
      },
      "source": [
        "## let's verify this with an example;"
      ]
    },
    {
      "cell_type": "code",
      "metadata": {
        "id": "1Mizh2eXp0N7",
        "colab": {
          "base_uri": "https://localhost:8080/"
        },
        "outputId": "a773a0eb-e225-4456-d6a7-38580002f974"
      },
      "source": [
        "from sklearn.preprocessing import StandardScaler\n",
        "import numpy as np\n",
        "\n",
        " #4 samples/observations and 2 variables/features\n",
        "data = np.array([[0,0] , [1,0] , [0,1] , [1,1]])\n",
        "scaler =StandardScaler()\n",
        "scaled_data = scaler.fit_transform(data)\n",
        "\n",
        "print(data)\n",
        "print(scaled_data)"
      ],
      "execution_count": 50,
      "outputs": [
        {
          "output_type": "stream",
          "text": [
            "[[0 0]\n",
            " [1 0]\n",
            " [0 1]\n",
            " [1 1]]\n",
            "[[-1. -1.]\n",
            " [ 1. -1.]\n",
            " [-1.  1.]\n",
            " [ 1.  1.]]\n"
          ],
          "name": "stdout"
        }
      ]
    },
    {
      "cell_type": "code",
      "metadata": {
        "id": "7XWHanafrp7N",
        "colab": {
          "base_uri": "https://localhost:8080/"
        },
        "outputId": "2109447b-c400-4fb2-f141-ca7b61ed49e1"
      },
      "source": [
        "#Verify that the mean of each feature (column) is 0:\n",
        "scaled_data.mean(axis=0)\n"
      ],
      "execution_count": 51,
      "outputs": [
        {
          "output_type": "execute_result",
          "data": {
            "text/plain": [
              "array([0., 0.])"
            ]
          },
          "metadata": {
            "tags": []
          },
          "execution_count": 51
        }
      ]
    },
    {
      "cell_type": "code",
      "metadata": {
        "id": "Un0rRcukrxvs",
        "colab": {
          "base_uri": "https://localhost:8080/"
        },
        "outputId": "b346ef05-b163-480c-f75a-204dc139afc4"
      },
      "source": [
        "#Verify that the std of each feature (column) is 1:\n",
        "scaled_data.std(axis=0)\n"
      ],
      "execution_count": 52,
      "outputs": [
        {
          "output_type": "execute_result",
          "data": {
            "text/plain": [
              "array([1., 1.])"
            ]
          },
          "metadata": {
            "tags": []
          },
          "execution_count": 52
        }
      ]
    },
    {
      "cell_type": "code",
      "metadata": {
        "id": "HEVT7n3_6M1k"
      },
      "source": [
        "# Feature Scaling\n",
        "from sklearn.preprocessing import StandardScaler\n",
        "sc=StandardScaler()\n",
        "x_train=sc.fit_transform(x_train)\n",
        "x_test=sc.fit_transform(x_test)"
      ],
      "execution_count": 53,
      "outputs": []
    },
    {
      "cell_type": "code",
      "metadata": {
        "id": "wH8GoFXb6M1m",
        "colab": {
          "base_uri": "https://localhost:8080/"
        },
        "outputId": "a9ea2f42-ee83-4fa8-d75b-28b113f2c693"
      },
      "source": [
        "# Training the model using Decision Tree Classifier\n",
        "from sklearn.tree import DecisionTreeClassifier\n",
        "dtc=DecisionTreeClassifier(criterion='entropy',random_state=0)\n",
        "dtc.fit(x_train,y_train)"
      ],
      "execution_count": 54,
      "outputs": [
        {
          "output_type": "execute_result",
          "data": {
            "text/plain": [
              "DecisionTreeClassifier(ccp_alpha=0.0, class_weight=None, criterion='entropy',\n",
              "                       max_depth=None, max_features=None, max_leaf_nodes=None,\n",
              "                       min_impurity_decrease=0.0, min_impurity_split=None,\n",
              "                       min_samples_leaf=1, min_samples_split=2,\n",
              "                       min_weight_fraction_leaf=0.0, presort='deprecated',\n",
              "                       random_state=0, splitter='best')"
            ]
          },
          "metadata": {
            "tags": []
          },
          "execution_count": 54
        }
      ]
    },
    {
      "cell_type": "code",
      "metadata": {
        "id": "IWHh21i06M1o"
      },
      "source": [
        "y_pred=dtc.predict(x_test)"
      ],
      "execution_count": 55,
      "outputs": []
    },
    {
      "cell_type": "code",
      "metadata": {
        "id": "ERxfMfMF6M1v",
        "colab": {
          "base_uri": "https://localhost:8080/"
        },
        "outputId": "ac0c1d33-e9e7-420a-c52b-88cf7358cb5f"
      },
      "source": [
        "# Getting the Accuracy Score\n",
        "from sklearn.metrics import accuracy_score\n",
        "accuracy_score(y_test,y_pred)"
      ],
      "execution_count": 56,
      "outputs": [
        {
          "output_type": "execute_result",
          "data": {
            "text/plain": [
              "0.8875"
            ]
          },
          "metadata": {
            "tags": []
          },
          "execution_count": 56
        }
      ]
    },
    {
      "cell_type": "code",
      "metadata": {
        "id": "hV-Mangp6M1x",
        "colab": {
          "base_uri": "https://localhost:8080/",
          "height": 476
        },
        "outputId": "2508a6fe-b7f4-43d5-8349-d02581563b77"
      },
      "source": [
        "labels = [\"Not Purchased\", \"Purhased\"]\n",
        "# Confusion Matrix\n",
        "from sklearn.metrics import confusion_matrix\n",
        "import seaborn as sns\n",
        "import matplotlib.pyplot as plt\n",
        "\n",
        "\n",
        "df_cm = pd.DataFrame(confusion_matrix(y_test,y_pred), columns=labels, index= labels)\n",
        "df_cm.index.name ='Predicted'\n",
        "df_cm.columns.name = 'Actual'\n",
        "plt.figure(figsize = (10,7))\n",
        "sns.set(font_scale=1.4)#for label size\n",
        "sns.heatmap(df_cm, cmap=\"Wistia\", annot=True,annot_kws={\"size\": 17})"
      ],
      "execution_count": 57,
      "outputs": [
        {
          "output_type": "execute_result",
          "data": {
            "text/plain": [
              "<matplotlib.axes._subplots.AxesSubplot at 0x7fa35af0e490>"
            ]
          },
          "metadata": {
            "tags": []
          },
          "execution_count": 57
        },
        {
          "output_type": "display_data",
          "data": {
            "image/png": "[encoded data removed]",
            "text/plain": [
              "<Figure size 720x504 with 2 Axes>"
            ]
          },
          "metadata": {
            "tags": []
          }
        }
      ]
    },
    {
      "cell_type": "markdown",
      "metadata": {
        "id": "Lqzq8xhfNAtX"
      },
      "source": [
        "## ROC Curve\n",
        "Receiver Operating Characteristic curve. It is nothing but a graph displaying the performance of a classification model. It is a very popular method to measure the accuracy of a classification model.\n",
        "\n",
        "**(Note: this implementation is restricted to the binary classification task.)"
      ]
    },
    {
      "cell_type": "markdown",
      "metadata": {
        "id": "AkLDmstNPc60"
      },
      "source": [
        "The ROC curve is created by plotting the true positive rate (TPR) against the false positive rate (FPR) at various threshold settings."
      ]
    },
    {
      "cell_type": "code",
      "metadata": {
        "id": "jn3dhMJx6M1z"
      },
      "source": [
        "# Getting the roc\n",
        "import sklearn.metrics as metrics   # to measure classification performance.\n",
        "fpr,tpr,threshold=metrics.roc_curve(y_test,y_pred)\n",
        "roc_auc=metrics.auc(fpr,tpr)"
      ],
      "execution_count": 58,
      "outputs": []
    },
    {
      "cell_type": "code",
      "metadata": {
        "id": "7otPoBU76M11",
        "colab": {
          "base_uri": "https://localhost:8080/",
          "height": 333
        },
        "outputId": "2c3fcac6-5a28-4d99-c6f0-26a0a1033387"
      },
      "source": [
        "# Plotting the roc-auc curve\n",
        "import matplotlib.pyplot as plt\n",
        "plt.title(\"roc\")\n",
        "plt.plot(fpr,tpr,'b',label=\"auc=%0.2f\"%roc_auc)\n",
        "plt.legend(loc=\"lower right\") #automatically creates a legend for labeled plot elements\n",
        "plt.plot([0,1],[0,1],\"r--\")\n",
        "plt.xlim([0,1])  #Get or set the x limits of the current axes.\n",
        "plt.ylim([0,1])  #Get or set the y limits of the current axes.\n",
        "plt.ylabel(\"tpr\")\n",
        "plt.xlabel(\"fpr\")"
      ],
      "execution_count": 59,
      "outputs": [
        {
          "output_type": "execute_result",
          "data": {
            "text/plain": [
              "Text(0.5, 0, 'fpr')"
            ]
          },
          "metadata": {
            "tags": []
          },
          "execution_count": 59
        },
        {
          "output_type": "display_data",
          "data": {
            "image/png": "[encoded data removed]",
            "text/plain": [
              "<Figure size 432x288 with 1 Axes>"
            ]
          },
          "metadata": {
            "tags": []
          }
        }
      ]
    },
    {
      "cell_type": "code",
      "metadata": {
        "id": "_r2SsLqe6M13",
        "colab": {
          "base_uri": "https://localhost:8080/"
        },
        "outputId": "4429daaa-ec0c-4452-b49a-b678f4f6064c"
      },
      "source": [
        "# Prediction for demo data \n",
        "dtc.predict(sc.fit_transform([[1,34,1900]]))"
      ],
      "execution_count": 60,
      "outputs": [
        {
          "output_type": "execute_result",
          "data": {
            "text/plain": [
              "array([1])"
            ]
          },
          "metadata": {
            "tags": []
          },
          "execution_count": 60
        }
      ]
    },
    {
      "cell_type": "code",
      "metadata": {
        "id": "DWa0pVBq6tiO"
      },
      "source": [
        "from sklearn.ensemble import RandomForestClassifier\n",
        "from sklearn.preprocessing import StandardScaler\n",
        "from sklearn.metrics import fbeta_score, make_scorer # make_scorer takes a score function, and returns a callable that scores a classifier's output.\n",
        "#F-beta score is for the positive class in binary classification\n",
        "\n",
        "from sklearn.model_selection import GridSearchCV\n",
        "\n",
        "model = RandomForestClassifier()"
      ],
      "execution_count": 61,
      "outputs": []
    },
    {
      "cell_type": "markdown",
      "metadata": {
        "id": "6jVORm9rBYBq"
      },
      "source": [
        "# optimised model\n",
        "\n",
        "**Our optimized Random Forest model is:**\n",
        "\n",
        "```\n",
        "RandomForestClassifier(bootstrap=True, ccp_alpha=0.0, class_weight=None,\n",
        "                       criterion='gini', max_depth=5, max_features='auto',\n",
        "                       max_leaf_nodes=None, max_samples=None,\n",
        "                       min_impurity_decrease=0.0, min_impurity_split=None,\n",
        "                       min_samples_leaf=8, min_samples_split=3,\n",
        "                       min_weight_fraction_leaf=0.0, n_estimators=4,\n",
        "                       n_jobs=None, oob_score=False, random_state=None,\n",
        "                       verbose=0, warm_start=False)\n",
        "```\n",
        "\n",
        "\n"
      ]
    },
    {
      "cell_type": "code",
      "metadata": {
        "id": "paYlvHYsBUV8"
      },
      "source": [
        "# ftwo_scorer = make_scorer(fbeta_score, beta=2)\n",
        "# parameters = {\"n_estimators\": [4, 5, 6, 7, 8, 9, 10, 15], \n",
        "#               \"criterion\": [\"gini\", \"entropy\"],\n",
        "#               \"max_features\": [\"auto\", \"sqrt\", \"log2\"], \n",
        "#               \"max_depth\": [2, 3, 5, 10], \n",
        "#               \"min_samples_split\": [2, 3, 5, 10],\n",
        "#               \"min_samples_leaf\": [1, 5, 8, 10]\n",
        "#              }\n",
        "# grid_cv = GridSearchCV(model, parameters, scoring = ftwo_scorer)\n",
        "# grid_cv = grid_cv.fit(x_train, y_train)\n",
        "\n",
        "# print(\"Our optimized Random Forest model is:\")\n",
        "# grid_cv.best_estimator_"
      ],
      "execution_count": 62,
      "outputs": []
    },
    {
      "cell_type": "code",
      "metadata": {
        "id": "wA28U2Aq9EK2"
      },
      "source": [
        "sc = StandardScaler()\n",
        "x_train = sc.fit_transform(x_train)\n",
        "x_test = sc.transform(x_test)\n",
        "#model = grid_cv.best_estimator_  (#uncomment this if you want to run the above cell & comment the below code)\n",
        "model = RandomForestClassifier(bootstrap=True, ccp_alpha=0.0, class_weight=None,\n",
        "                       criterion='gini', max_depth=5, max_features='auto',\n",
        "                       max_leaf_nodes=None, max_samples=None,\n",
        "                       min_impurity_decrease=0.0, min_impurity_split=None,\n",
        "                       min_samples_leaf=8, min_samples_split=3,\n",
        "                       min_weight_fraction_leaf=0.0, n_estimators=4,\n",
        "                       n_jobs=None, oob_score=False, random_state=None,\n",
        "                       verbose=0, warm_start=False)\n"
      ],
      "execution_count": 63,
      "outputs": []
    },
    {
      "cell_type": "code",
      "metadata": {
        "id": "cU_mnt3FRCb7",
        "colab": {
          "base_uri": "https://localhost:8080/"
        },
        "outputId": "2659cae0-d56a-43bb-da82-d06696246019"
      },
      "source": [
        "model.fit(x_train, y_train)"
      ],
      "execution_count": 64,
      "outputs": [
        {
          "output_type": "execute_result",
          "data": {
            "text/plain": [
              "RandomForestClassifier(bootstrap=True, ccp_alpha=0.0, class_weight=None,\n",
              "                       criterion='gini', max_depth=5, max_features='auto',\n",
              "                       max_leaf_nodes=None, max_samples=None,\n",
              "                       min_impurity_decrease=0.0, min_impurity_split=None,\n",
              "                       min_samples_leaf=8, min_samples_split=3,\n",
              "                       min_weight_fraction_leaf=0.0, n_estimators=4,\n",
              "                       n_jobs=None, oob_score=False, random_state=None,\n",
              "                       verbose=0, warm_start=False)"
            ]
          },
          "metadata": {
            "tags": []
          },
          "execution_count": 64
        }
      ]
    },
    {
      "cell_type": "code",
      "metadata": {
        "id": "t-T4M-0cRsae"
      },
      "source": [
        "y_pred = model.predict(x_test)"
      ],
      "execution_count": 65,
      "outputs": []
    },
    {
      "cell_type": "code",
      "metadata": {
        "id": "X9tF8iE59OvV",
        "colab": {
          "base_uri": "https://localhost:8080/"
        },
        "outputId": "eec729b3-0dd0-4f39-9157-2b3818cbfb8d"
      },
      "source": [
        "# Conclude that 0 is Not Purchased and 1 is vice versa\n",
        "from sklearn.metrics import confusion_matrix, accuracy_score, classification_report\n",
        "\n",
        "labels = [\"Not Purchased\", \"Purhased\"]\n",
        "\n",
        "y_pred=model.predict(x_test)\n",
        "report = classification_report(y_test, y_pred, target_names=labels)\n",
        "print(report)"
      ],
      "execution_count": 66,
      "outputs": [
        {
          "output_type": "stream",
          "text": [
            "               precision    recall  f1-score   support\n",
            "\n",
            "Not Purchased       0.96      0.92      0.94        51\n",
            "     Purhased       0.87      0.93      0.90        29\n",
            "\n",
            "     accuracy                           0.93        80\n",
            "    macro avg       0.92      0.93      0.92        80\n",
            " weighted avg       0.93      0.93      0.93        80\n",
            "\n"
          ],
          "name": "stdout"
        }
      ]
    },
    {
      "cell_type": "code",
      "metadata": {
        "id": "rvsF7DlsaIeK",
        "colab": {
          "base_uri": "https://localhost:8080/",
          "height": 290
        },
        "outputId": "697d826e-e604-4378-905a-925cfe453368"
      },
      "source": [
        "import seaborn as sns\n",
        "\n",
        "classes = [\"Not Purchased\", \"Purhased\"]\n",
        "\n",
        "classificationReport= classification_report(y_test, y_pred, target_names=classes, output_dict=True)\n",
        "\n",
        "sns.heatmap(pd.DataFrame(classificationReport).iloc[:-1, :].T, annot=True)\n"
      ],
      "execution_count": 67,
      "outputs": [
        {
          "output_type": "execute_result",
          "data": {
            "text/plain": [
              "<matplotlib.axes._subplots.AxesSubplot at 0x7fa35af66e10>"
            ]
          },
          "metadata": {
            "tags": []
          },
          "execution_count": 67
        },
        {
          "output_type": "display_data",
          "data": {
            "image/png": "[encoded data removed]",
            "text/plain": [
              "<Figure size 432x288 with 2 Axes>"
            ]
          },
          "metadata": {
            "tags": []
          }
        }
      ]
    },
    {
      "cell_type": "markdown",
      "metadata": {
        "id": "gnGR9xJyaw4-"
      },
      "source": [
        "Note:\n",
        "\n",
        "`'macro':`\n",
        "\n",
        "Calculate metrics for each label, and find their unweighted mean. This does not take label imbalance into account.\n",
        "\n",
        "`'weighted'`:\n",
        "'weighted':\n",
        "Calculate metrics for each label, and find their average weighted by support (the number of true instances for each label). This alters ‘macro’ to account for label imbalance; it can result in an F-score that is not between precision and recall.\n",
        "\n",
        "`'Recall'`:\n",
        "Note: A model that produces no false negatives has a recall of 1.0.\n",
        "\n",
        "\n",
        "Improving precision typically reduces recall and vice versa."
      ]
    },
    {
      "cell_type": "markdown",
      "metadata": {
        "id": "9-ijpvRZb85m"
      },
      "source": [
        "## Let's plot the Confusion matrix"
      ]
    },
    {
      "cell_type": "code",
      "metadata": {
        "id": "ZZvoCfwY9IHn",
        "colab": {
          "base_uri": "https://localhost:8080/",
          "height": 476
        },
        "outputId": "b9a0cff8-a04b-4167-9c04-6a102f180dcb"
      },
      "source": [
        "import seaborn as sns\n",
        "import matplotlib.pyplot as plt\n",
        "\n",
        "\n",
        "df_cm = pd.DataFrame(confusion_matrix(y_test,y_pred), columns=labels, index= labels)\n",
        "df_cm.index.name = 'Actual'\n",
        "df_cm.columns.name = 'Predicted'\n",
        "plt.figure(figsize = (10,7))\n",
        "sns.set(font_scale=1.4)#for label size\n",
        "sns.heatmap(df_cm, cmap=\"Wistia\", annot=True,annot_kws={\"size\": 17})"
      ],
      "execution_count": 68,
      "outputs": [
        {
          "output_type": "execute_result",
          "data": {
            "text/plain": [
              "<matplotlib.axes._subplots.AxesSubplot at 0x7fa35b042250>"
            ]
          },
          "metadata": {
            "tags": []
          },
          "execution_count": 68
        },
        {
          "output_type": "display_data",
          "data": {
            "image/png": "[encoded data removed]",
            "text/plain": [
              "<Figure size 720x504 with 2 Axes>"
            ]
          },
          "metadata": {
            "tags": []
          }
        }
      ]
    },
    {
      "cell_type": "code",
      "metadata": {
        "id": "gDTdIAehBGDt"
      },
      "source": [
        "# Getting the roc\n",
        "import sklearn.metrics as metrics\n",
        "fpr,tpr,threshold=metrics.roc_curve(y_test,y_pred)\n",
        "roc_auc=metrics.auc(fpr,tpr)"
      ],
      "execution_count": 69,
      "outputs": []
    },
    {
      "cell_type": "code",
      "metadata": {
        "id": "c4nBuH2jBGDw",
        "colab": {
          "base_uri": "https://localhost:8080/",
          "height": 333
        },
        "outputId": "1996e38e-a47a-45d6-a986-19249b840d9f"
      },
      "source": [
        "# Plotting the roc-auc curve\n",
        "import matplotlib.pyplot as plt\n",
        "plt.title(\"roc\")\n",
        "plt.plot(fpr,tpr,'b',label=\"auc=%0.2f\"%roc_auc)\n",
        "plt.legend(loc=\"lower right\")\n",
        "plt.plot([0,1],[0,1],\"r--\")\n",
        "plt.xlim([0,1])\n",
        "plt.ylim([0,1])\n",
        "plt.ylabel(\"tpr\")\n",
        "plt.xlabel(\"fpr\")"
      ],
      "execution_count": 70,
      "outputs": [
        {
          "output_type": "execute_result",
          "data": {
            "text/plain": [
              "Text(0.5, 0, 'fpr')"
            ]
          },
          "metadata": {
            "tags": []
          },
          "execution_count": 70
        },
        {
          "output_type": "display_data",
          "data": {
            "image/png": "[encoded data removed]",
            "text/plain": [
              "<Figure size 432x288 with 1 Axes>"
            ]
          },
          "metadata": {
            "tags": []
          }
        }
      ]
    },
    {
      "cell_type": "markdown",
      "metadata": {
        "id": "IX_LPM2vecab"
      },
      "source": [
        "## Before we deploy;"
      ]
    },
    {
      "cell_type": "code",
      "metadata": {
        "id": "7GuBwGZYdA1W"
      },
      "source": [
        "# Import tools needed for visualization\n",
        "from sklearn.tree import export_graphviz\n",
        "import pydot\n",
        "tree = model.estimators_[3]\n",
        "features= ['Gender',\t'Age',\t'EstimatedSalary']\n",
        "\n",
        "# Export the image to a dot file\n",
        "export_graphviz(tree, out_file = 'tree.dot', feature_names = features, rounded = True, precision = 1)\n",
        "\n",
        "# Use dot file to create a graph\n",
        "(graph, ) = pydot.graph_from_dot_file('tree.dot')\n",
        "\n",
        "# Write graph to a png file\n",
        "graph.write_png('tree.png')"
      ],
      "execution_count": 71,
      "outputs": []
    },
    {
      "cell_type": "code",
      "metadata": {
        "id": "i_VcGsE4aAC3",
        "colab": {
          "base_uri": "https://localhost:8080/",
          "height": 815
        },
        "outputId": "6e21cd92-8fad-453e-e16c-2532e93d940d"
      },
      "source": [
        "import graphviz\n",
        "with open(\"tree.dot\") as f:\n",
        "    dot_graph = f.read()\n",
        "graphviz.Source(dot_graph)"
      ],
      "execution_count": 72,
      "outputs": [
        {
          "output_type": "execute_result",
          "data": {
            "text/plain": [
              "<graphviz.files.Source at 0x7fa359c270d0>"
            ],
            "image/svg+xml": "<?xml version=\"1.0\" encoding=\"UTF-8\" standalone=\"no\"?>\n<!DOCTYPE svg PUBLIC \"-//W3C//DTD SVG 1.1//EN\"\n \"http://www.w3.org/Graphics/SVG/1.1/DTD/svg11.dtd\">\n<!-- Generated by graphviz version 2.40.1 (20161225.0304)\n -->\n<!-- Title: Tree Pages: 1 -->\n<svg width=\"977pt\" height=\"581pt\"\n viewBox=\"0.00 0.00 977.00 581.00\" xmlns=\"http://www.w3.org/2000/svg\" xmlns:xlink=\"http://www.w3.org/1999/xlink\">\n<g id=\"graph0\" class=\"graph\" transform=\"scale(1 1) rotate(0) translate(4 577)\">\n<title>Tree</title>\n<polygon fill=\"#ffffff\" stroke=\"transparent\" points=\"-4,4 -4,-577 973,-577 973,4 -4,4\"/>\n<!-- 0 -->\n<g id=\"node1\" class=\"node\">\n<title>0</title>\n<path fill=\"none\" stroke=\"#000000\" d=\"M766.5,-573C766.5,-573 658.5,-573 658.5,-573 652.5,-573 646.5,-567 646.5,-561 646.5,-561 646.5,-517 646.5,-517 646.5,-511 652.5,-505 658.5,-505 658.5,-505 766.5,-505 766.5,-505 772.5,-505 778.5,-511 778.5,-517 778.5,-517 778.5,-561 778.5,-561 778.5,-567 772.5,-573 766.5,-573\"/>\n<text text-anchor=\"middle\" x=\"712.5\" y=\"-557.8\" font-family=\"Helvetica,sans-Serif\" font-size=\"14.00\" fill=\"#000000\">Age &lt;= 0.9</text>\n<text text-anchor=\"middle\" x=\"712.5\" y=\"-542.8\" font-family=\"Helvetica,sans-Serif\" font-size=\"14.00\" fill=\"#000000\">gini = 0.4</text>\n<text text-anchor=\"middle\" x=\"712.5\" y=\"-527.8\" font-family=\"Helvetica,sans-Serif\" font-size=\"14.00\" fill=\"#000000\">samples = 194</text>\n<text text-anchor=\"middle\" x=\"712.5\" y=\"-512.8\" font-family=\"Helvetica,sans-Serif\" font-size=\"14.00\" fill=\"#000000\">value = [215, 105]</text>\n</g>\n<!-- 1 -->\n<g id=\"node2\" class=\"node\">\n<title>1</title>\n<path fill=\"none\" stroke=\"#000000\" d=\"M611.5,-469C611.5,-469 511.5,-469 511.5,-469 505.5,-469 499.5,-463 499.5,-457 499.5,-457 499.5,-413 499.5,-413 499.5,-407 505.5,-401 511.5,-401 511.5,-401 611.5,-401 611.5,-401 617.5,-401 623.5,-407 623.5,-413 623.5,-413 623.5,-457 623.5,-457 623.5,-463 617.5,-469 611.5,-469\"/>\n<text text-anchor=\"middle\" x=\"561.5\" y=\"-453.8\" font-family=\"Helvetica,sans-Serif\" font-size=\"14.00\" fill=\"#000000\">Gender &lt;= &#45;0.0</text>\n<text text-anchor=\"middle\" x=\"561.5\" y=\"-438.8\" font-family=\"Helvetica,sans-Serif\" font-size=\"14.00\" fill=\"#000000\">gini = 0.3</text>\n<text text-anchor=\"middle\" x=\"561.5\" y=\"-423.8\" font-family=\"Helvetica,sans-Serif\" font-size=\"14.00\" fill=\"#000000\">samples = 153</text>\n<text text-anchor=\"middle\" x=\"561.5\" y=\"-408.8\" font-family=\"Helvetica,sans-Serif\" font-size=\"14.00\" fill=\"#000000\">value = [207, 46]</text>\n</g>\n<!-- 0&#45;&gt;1 -->\n<g id=\"edge1\" class=\"edge\">\n<title>0&#45;&gt;1</title>\n<path fill=\"none\" stroke=\"#000000\" d=\"M663.057,-504.9465C649.1083,-495.3395 633.8071,-484.8009 619.4097,-474.8848\"/>\n<polygon fill=\"#000000\" stroke=\"#000000\" points=\"621.2751,-471.9198 611.0541,-469.13 617.3045,-477.6848 621.2751,-471.9198\"/>\n<text text-anchor=\"middle\" x=\"615.5856\" y=\"-490.0159\" font-family=\"Helvetica,sans-Serif\" font-size=\"14.00\" fill=\"#000000\">True</text>\n</g>\n<!-- 16 -->\n<g id=\"node17\" class=\"node\">\n<title>16</title>\n<path fill=\"none\" stroke=\"#000000\" d=\"M832,-469C832,-469 749,-469 749,-469 743,-469 737,-463 737,-457 737,-457 737,-413 737,-413 737,-407 743,-401 749,-401 749,-401 832,-401 832,-401 838,-401 844,-407 844,-413 844,-413 844,-457 844,-457 844,-463 838,-469 832,-469\"/>\n<text text-anchor=\"middle\" x=\"790.5\" y=\"-453.8\" font-family=\"Helvetica,sans-Serif\" font-size=\"14.00\" fill=\"#000000\">Age &lt;= 1.4</text>\n<text text-anchor=\"middle\" x=\"790.5\" y=\"-438.8\" font-family=\"Helvetica,sans-Serif\" font-size=\"14.00\" fill=\"#000000\">gini = 0.2</text>\n<text text-anchor=\"middle\" x=\"790.5\" y=\"-423.8\" font-family=\"Helvetica,sans-Serif\" font-size=\"14.00\" fill=\"#000000\">samples = 41</text>\n<text text-anchor=\"middle\" x=\"790.5\" y=\"-408.8\" font-family=\"Helvetica,sans-Serif\" font-size=\"14.00\" fill=\"#000000\">value = [8, 59]</text>\n</g>\n<!-- 0&#45;&gt;16 -->\n<g id=\"edge16\" class=\"edge\">\n<title>0&#45;&gt;16</title>\n<path fill=\"none\" stroke=\"#000000\" d=\"M738.0401,-504.9465C744.6393,-496.1475 751.8246,-486.5672 758.7005,-477.3993\"/>\n<polygon fill=\"#000000\" stroke=\"#000000\" points=\"761.7025,-479.23 764.9025,-469.13 756.1025,-475.03 761.7025,-479.23\"/>\n<text text-anchor=\"middle\" x=\"768.438\" y=\"-490.1787\" font-family=\"Helvetica,sans-Serif\" font-size=\"14.00\" fill=\"#000000\">False</text>\n</g>\n<!-- 2 -->\n<g id=\"node3\" class=\"node\">\n<title>2</title>\n<path fill=\"none\" stroke=\"#000000\" d=\"M397,-365C397,-365 254,-365 254,-365 248,-365 242,-359 242,-353 242,-353 242,-309 242,-309 242,-303 248,-297 254,-297 254,-297 397,-297 397,-297 403,-297 409,-303 409,-309 409,-309 409,-353 409,-353 409,-359 403,-365 397,-365\"/>\n<text text-anchor=\"middle\" x=\"325.5\" y=\"-349.8\" font-family=\"Helvetica,sans-Serif\" font-size=\"14.00\" fill=\"#000000\">EstimatedSalary &lt;= 0.5</text>\n<text text-anchor=\"middle\" x=\"325.5\" y=\"-334.8\" font-family=\"Helvetica,sans-Serif\" font-size=\"14.00\" fill=\"#000000\">gini = 0.3</text>\n<text text-anchor=\"middle\" x=\"325.5\" y=\"-319.8\" font-family=\"Helvetica,sans-Serif\" font-size=\"14.00\" fill=\"#000000\">samples = 72</text>\n<text text-anchor=\"middle\" x=\"325.5\" y=\"-304.8\" font-family=\"Helvetica,sans-Serif\" font-size=\"14.00\" fill=\"#000000\">value = [92, 26]</text>\n</g>\n<!-- 1&#45;&gt;2 -->\n<g id=\"edge2\" class=\"edge\">\n<title>1&#45;&gt;2</title>\n<path fill=\"none\" stroke=\"#000000\" d=\"M499.4938,-407.6752C472.7526,-395.891 441.017,-381.9058 412.0181,-369.1266\"/>\n<polygon fill=\"#000000\" stroke=\"#000000\" points=\"413.2712,-365.8541 402.7089,-365.0242 410.4483,-372.2597 413.2712,-365.8541\"/>\n</g>\n<!-- 9 -->\n<g id=\"node10\" class=\"node\">\n<title>9</title>\n<path fill=\"none\" stroke=\"#000000\" d=\"M611.5,-365C611.5,-365 511.5,-365 511.5,-365 505.5,-365 499.5,-359 499.5,-353 499.5,-353 499.5,-309 499.5,-309 499.5,-303 505.5,-297 511.5,-297 511.5,-297 611.5,-297 611.5,-297 617.5,-297 623.5,-303 623.5,-309 623.5,-309 623.5,-353 623.5,-353 623.5,-359 617.5,-365 611.5,-365\"/>\n<text text-anchor=\"middle\" x=\"561.5\" y=\"-349.8\" font-family=\"Helvetica,sans-Serif\" font-size=\"14.00\" fill=\"#000000\">Age &lt;= &#45;1.0</text>\n<text text-anchor=\"middle\" x=\"561.5\" y=\"-334.8\" font-family=\"Helvetica,sans-Serif\" font-size=\"14.00\" fill=\"#000000\">gini = 0.3</text>\n<text text-anchor=\"middle\" x=\"561.5\" y=\"-319.8\" font-family=\"Helvetica,sans-Serif\" font-size=\"14.00\" fill=\"#000000\">samples = 81</text>\n<text text-anchor=\"middle\" x=\"561.5\" y=\"-304.8\" font-family=\"Helvetica,sans-Serif\" font-size=\"14.00\" fill=\"#000000\">value = [115, 20]</text>\n</g>\n<!-- 1&#45;&gt;9 -->\n<g id=\"edge9\" class=\"edge\">\n<title>1&#45;&gt;9</title>\n<path fill=\"none\" stroke=\"#000000\" d=\"M561.5,-400.9465C561.5,-392.776 561.5,-383.9318 561.5,-375.3697\"/>\n<polygon fill=\"#000000\" stroke=\"#000000\" points=\"565.0001,-375.13 561.5,-365.13 558.0001,-375.13 565.0001,-375.13\"/>\n</g>\n<!-- 3 -->\n<g id=\"node4\" class=\"node\">\n<title>3</title>\n<path fill=\"none\" stroke=\"#000000\" d=\"M212,-261C212,-261 129,-261 129,-261 123,-261 117,-255 117,-249 117,-249 117,-205 117,-205 117,-199 123,-193 129,-193 129,-193 212,-193 212,-193 218,-193 224,-199 224,-205 224,-205 224,-249 224,-249 224,-255 218,-261 212,-261\"/>\n<text text-anchor=\"middle\" x=\"170.5\" y=\"-245.8\" font-family=\"Helvetica,sans-Serif\" font-size=\"14.00\" fill=\"#000000\">Age &lt;= 0.1</text>\n<text text-anchor=\"middle\" x=\"170.5\" y=\"-230.8\" font-family=\"Helvetica,sans-Serif\" font-size=\"14.00\" fill=\"#000000\">gini = 0.1</text>\n<text text-anchor=\"middle\" x=\"170.5\" y=\"-215.8\" font-family=\"Helvetica,sans-Serif\" font-size=\"14.00\" fill=\"#000000\">samples = 53</text>\n<text text-anchor=\"middle\" x=\"170.5\" y=\"-200.8\" font-family=\"Helvetica,sans-Serif\" font-size=\"14.00\" fill=\"#000000\">value = [81, 7]</text>\n</g>\n<!-- 2&#45;&gt;3 -->\n<g id=\"edge3\" class=\"edge\">\n<title>2&#45;&gt;3</title>\n<path fill=\"none\" stroke=\"#000000\" d=\"M274.7472,-296.9465C260.429,-287.3395 244.7225,-276.8009 229.9437,-266.8848\"/>\n<polygon fill=\"#000000\" stroke=\"#000000\" points=\"231.6209,-263.7953 221.3668,-261.13 227.7207,-269.6081 231.6209,-263.7953\"/>\n</g>\n<!-- 6 -->\n<g id=\"node7\" class=\"node\">\n<title>6</title>\n<path fill=\"none\" stroke=\"#000000\" d=\"M397,-261C397,-261 254,-261 254,-261 248,-261 242,-255 242,-249 242,-249 242,-205 242,-205 242,-199 248,-193 254,-193 254,-193 397,-193 397,-193 403,-193 409,-199 409,-205 409,-205 409,-249 409,-249 409,-255 403,-261 397,-261\"/>\n<text text-anchor=\"middle\" x=\"325.5\" y=\"-245.8\" font-family=\"Helvetica,sans-Serif\" font-size=\"14.00\" fill=\"#000000\">EstimatedSalary &lt;= 1.5</text>\n<text text-anchor=\"middle\" x=\"325.5\" y=\"-230.8\" font-family=\"Helvetica,sans-Serif\" font-size=\"14.00\" fill=\"#000000\">gini = 0.5</text>\n<text text-anchor=\"middle\" x=\"325.5\" y=\"-215.8\" font-family=\"Helvetica,sans-Serif\" font-size=\"14.00\" fill=\"#000000\">samples = 19</text>\n<text text-anchor=\"middle\" x=\"325.5\" y=\"-200.8\" font-family=\"Helvetica,sans-Serif\" font-size=\"14.00\" fill=\"#000000\">value = [11, 19]</text>\n</g>\n<!-- 2&#45;&gt;6 -->\n<g id=\"edge6\" class=\"edge\">\n<title>2&#45;&gt;6</title>\n<path fill=\"none\" stroke=\"#000000\" d=\"M325.5,-296.9465C325.5,-288.776 325.5,-279.9318 325.5,-271.3697\"/>\n<polygon fill=\"#000000\" stroke=\"#000000\" points=\"329.0001,-271.13 325.5,-261.13 322.0001,-271.13 329.0001,-271.13\"/>\n</g>\n<!-- 4 -->\n<g id=\"node5\" class=\"node\">\n<title>4</title>\n<path fill=\"none\" stroke=\"#000000\" d=\"M95,-149.5C95,-149.5 12,-149.5 12,-149.5 6,-149.5 0,-143.5 0,-137.5 0,-137.5 0,-108.5 0,-108.5 0,-102.5 6,-96.5 12,-96.5 12,-96.5 95,-96.5 95,-96.5 101,-96.5 107,-102.5 107,-108.5 107,-108.5 107,-137.5 107,-137.5 107,-143.5 101,-149.5 95,-149.5\"/>\n<text text-anchor=\"middle\" x=\"53.5\" y=\"-134.3\" font-family=\"Helvetica,sans-Serif\" font-size=\"14.00\" fill=\"#000000\">gini = 0.0</text>\n<text text-anchor=\"middle\" x=\"53.5\" y=\"-119.3\" font-family=\"Helvetica,sans-Serif\" font-size=\"14.00\" fill=\"#000000\">samples = 38</text>\n<text text-anchor=\"middle\" x=\"53.5\" y=\"-104.3\" font-family=\"Helvetica,sans-Serif\" font-size=\"14.00\" fill=\"#000000\">value = [62, 0]</text>\n</g>\n<!-- 3&#45;&gt;4 -->\n<g id=\"edge4\" class=\"edge\">\n<title>3&#45;&gt;4</title>\n<path fill=\"none\" stroke=\"#000000\" d=\"M132.1898,-192.9465C118.9306,-181.1606 104.0942,-167.9726 90.9084,-156.2519\"/>\n<polygon fill=\"#000000\" stroke=\"#000000\" points=\"93.1593,-153.5699 83.3599,-149.5422 88.5088,-158.8018 93.1593,-153.5699\"/>\n</g>\n<!-- 5 -->\n<g id=\"node6\" class=\"node\">\n<title>5</title>\n<path fill=\"none\" stroke=\"#000000\" d=\"M220,-149.5C220,-149.5 137,-149.5 137,-149.5 131,-149.5 125,-143.5 125,-137.5 125,-137.5 125,-108.5 125,-108.5 125,-102.5 131,-96.5 137,-96.5 137,-96.5 220,-96.5 220,-96.5 226,-96.5 232,-102.5 232,-108.5 232,-108.5 232,-137.5 232,-137.5 232,-143.5 226,-149.5 220,-149.5\"/>\n<text text-anchor=\"middle\" x=\"178.5\" y=\"-134.3\" font-family=\"Helvetica,sans-Serif\" font-size=\"14.00\" fill=\"#000000\">gini = 0.4</text>\n<text text-anchor=\"middle\" x=\"178.5\" y=\"-119.3\" font-family=\"Helvetica,sans-Serif\" font-size=\"14.00\" fill=\"#000000\">samples = 15</text>\n<text text-anchor=\"middle\" x=\"178.5\" y=\"-104.3\" font-family=\"Helvetica,sans-Serif\" font-size=\"14.00\" fill=\"#000000\">value = [19, 7]</text>\n</g>\n<!-- 3&#45;&gt;5 -->\n<g id=\"edge5\" class=\"edge\">\n<title>3&#45;&gt;5</title>\n<path fill=\"none\" stroke=\"#000000\" d=\"M173.1195,-192.9465C173.9414,-182.2621 174.8519,-170.4254 175.6866,-159.5742\"/>\n<polygon fill=\"#000000\" stroke=\"#000000\" points=\"179.1809,-159.7812 176.4583,-149.5422 172.2015,-159.2442 179.1809,-159.7812\"/>\n</g>\n<!-- 7 -->\n<g id=\"node8\" class=\"node\">\n<title>7</title>\n<path fill=\"none\" stroke=\"#000000\" d=\"M357.5,-149.5C357.5,-149.5 277.5,-149.5 277.5,-149.5 271.5,-149.5 265.5,-143.5 265.5,-137.5 265.5,-137.5 265.5,-108.5 265.5,-108.5 265.5,-102.5 271.5,-96.5 277.5,-96.5 277.5,-96.5 357.5,-96.5 357.5,-96.5 363.5,-96.5 369.5,-102.5 369.5,-108.5 369.5,-108.5 369.5,-137.5 369.5,-137.5 369.5,-143.5 363.5,-149.5 357.5,-149.5\"/>\n<text text-anchor=\"middle\" x=\"317.5\" y=\"-134.3\" font-family=\"Helvetica,sans-Serif\" font-size=\"14.00\" fill=\"#000000\">gini = 0.5</text>\n<text text-anchor=\"middle\" x=\"317.5\" y=\"-119.3\" font-family=\"Helvetica,sans-Serif\" font-size=\"14.00\" fill=\"#000000\">samples = 11</text>\n<text text-anchor=\"middle\" x=\"317.5\" y=\"-104.3\" font-family=\"Helvetica,sans-Serif\" font-size=\"14.00\" fill=\"#000000\">value = [8, 9]</text>\n</g>\n<!-- 6&#45;&gt;7 -->\n<g id=\"edge7\" class=\"edge\">\n<title>6&#45;&gt;7</title>\n<path fill=\"none\" stroke=\"#000000\" d=\"M322.8805,-192.9465C322.0586,-182.2621 321.1481,-170.4254 320.3134,-159.5742\"/>\n<polygon fill=\"#000000\" stroke=\"#000000\" points=\"323.7985,-159.2442 319.5417,-149.5422 316.8191,-159.7812 323.7985,-159.2442\"/>\n</g>\n<!-- 8 -->\n<g id=\"node9\" class=\"node\">\n<title>8</title>\n<path fill=\"none\" stroke=\"#000000\" d=\"M483,-149.5C483,-149.5 400,-149.5 400,-149.5 394,-149.5 388,-143.5 388,-137.5 388,-137.5 388,-108.5 388,-108.5 388,-102.5 394,-96.5 400,-96.5 400,-96.5 483,-96.5 483,-96.5 489,-96.5 495,-102.5 495,-108.5 495,-108.5 495,-137.5 495,-137.5 495,-143.5 489,-149.5 483,-149.5\"/>\n<text text-anchor=\"middle\" x=\"441.5\" y=\"-134.3\" font-family=\"Helvetica,sans-Serif\" font-size=\"14.00\" fill=\"#000000\">gini = 0.4</text>\n<text text-anchor=\"middle\" x=\"441.5\" y=\"-119.3\" font-family=\"Helvetica,sans-Serif\" font-size=\"14.00\" fill=\"#000000\">samples = 8</text>\n<text text-anchor=\"middle\" x=\"441.5\" y=\"-104.3\" font-family=\"Helvetica,sans-Serif\" font-size=\"14.00\" fill=\"#000000\">value = [3, 10]</text>\n</g>\n<!-- 6&#45;&gt;8 -->\n<g id=\"edge8\" class=\"edge\">\n<title>6&#45;&gt;8</title>\n<path fill=\"none\" stroke=\"#000000\" d=\"M363.4827,-192.9465C376.6286,-181.1606 391.3382,-167.9726 404.4113,-156.2519\"/>\n<polygon fill=\"#000000\" stroke=\"#000000\" points=\"406.786,-158.8236 411.8953,-149.5422 402.1131,-153.6116 406.786,-158.8236\"/>\n</g>\n<!-- 10 -->\n<g id=\"node11\" class=\"node\">\n<title>10</title>\n<path fill=\"none\" stroke=\"#000000\" d=\"M522,-253.5C522,-253.5 439,-253.5 439,-253.5 433,-253.5 427,-247.5 427,-241.5 427,-241.5 427,-212.5 427,-212.5 427,-206.5 433,-200.5 439,-200.5 439,-200.5 522,-200.5 522,-200.5 528,-200.5 534,-206.5 534,-212.5 534,-212.5 534,-241.5 534,-241.5 534,-247.5 528,-253.5 522,-253.5\"/>\n<text text-anchor=\"middle\" x=\"480.5\" y=\"-238.3\" font-family=\"Helvetica,sans-Serif\" font-size=\"14.00\" fill=\"#000000\">gini = 0.0</text>\n<text text-anchor=\"middle\" x=\"480.5\" y=\"-223.3\" font-family=\"Helvetica,sans-Serif\" font-size=\"14.00\" fill=\"#000000\">samples = 15</text>\n<text text-anchor=\"middle\" x=\"480.5\" y=\"-208.3\" font-family=\"Helvetica,sans-Serif\" font-size=\"14.00\" fill=\"#000000\">value = [26, 0]</text>\n</g>\n<!-- 9&#45;&gt;10 -->\n<g id=\"edge10\" class=\"edge\">\n<title>9&#45;&gt;10</title>\n<path fill=\"none\" stroke=\"#000000\" d=\"M534.9776,-296.9465C526.1413,-285.6012 516.2932,-272.9567 507.4266,-261.5724\"/>\n<polygon fill=\"#000000\" stroke=\"#000000\" points=\"510.0783,-259.281 501.1723,-253.5422 504.5556,-263.5823 510.0783,-259.281\"/>\n</g>\n<!-- 11 -->\n<g id=\"node12\" class=\"node\">\n<title>11</title>\n<path fill=\"none\" stroke=\"#000000\" d=\"M707,-261C707,-261 564,-261 564,-261 558,-261 552,-255 552,-249 552,-249 552,-205 552,-205 552,-199 558,-193 564,-193 564,-193 707,-193 707,-193 713,-193 719,-199 719,-205 719,-205 719,-249 719,-249 719,-255 713,-261 707,-261\"/>\n<text text-anchor=\"middle\" x=\"635.5\" y=\"-245.8\" font-family=\"Helvetica,sans-Serif\" font-size=\"14.00\" fill=\"#000000\">EstimatedSalary &lt;= 0.4</text>\n<text text-anchor=\"middle\" x=\"635.5\" y=\"-230.8\" font-family=\"Helvetica,sans-Serif\" font-size=\"14.00\" fill=\"#000000\">gini = 0.3</text>\n<text text-anchor=\"middle\" x=\"635.5\" y=\"-215.8\" font-family=\"Helvetica,sans-Serif\" font-size=\"14.00\" fill=\"#000000\">samples = 66</text>\n<text text-anchor=\"middle\" x=\"635.5\" y=\"-200.8\" font-family=\"Helvetica,sans-Serif\" font-size=\"14.00\" fill=\"#000000\">value = [89, 20]</text>\n</g>\n<!-- 9&#45;&gt;11 -->\n<g id=\"edge11\" class=\"edge\">\n<title>9&#45;&gt;11</title>\n<path fill=\"none\" stroke=\"#000000\" d=\"M585.7304,-296.9465C591.9912,-288.1475 598.808,-278.5672 605.3313,-269.3993\"/>\n<polygon fill=\"#000000\" stroke=\"#000000\" points=\"608.2694,-271.3071 611.2152,-261.13 602.5658,-267.2488 608.2694,-271.3071\"/>\n</g>\n<!-- 12 -->\n<g id=\"node13\" class=\"node\">\n<title>12</title>\n<path fill=\"none\" stroke=\"#000000\" d=\"M691,-157C691,-157 544,-157 544,-157 538,-157 532,-151 532,-145 532,-145 532,-101 532,-101 532,-95 538,-89 544,-89 544,-89 691,-89 691,-89 697,-89 703,-95 703,-101 703,-101 703,-145 703,-145 703,-151 697,-157 691,-157\"/>\n<text text-anchor=\"middle\" x=\"617.5\" y=\"-141.8\" font-family=\"Helvetica,sans-Serif\" font-size=\"14.00\" fill=\"#000000\">EstimatedSalary &lt;= &#45;1.2</text>\n<text text-anchor=\"middle\" x=\"617.5\" y=\"-126.8\" font-family=\"Helvetica,sans-Serif\" font-size=\"14.00\" fill=\"#000000\">gini = 0.1</text>\n<text text-anchor=\"middle\" x=\"617.5\" y=\"-111.8\" font-family=\"Helvetica,sans-Serif\" font-size=\"14.00\" fill=\"#000000\">samples = 51</text>\n<text text-anchor=\"middle\" x=\"617.5\" y=\"-96.8\" font-family=\"Helvetica,sans-Serif\" font-size=\"14.00\" fill=\"#000000\">value = [82, 3]</text>\n</g>\n<!-- 11&#45;&gt;12 -->\n<g id=\"edge12\" class=\"edge\">\n<title>11&#45;&gt;12</title>\n<path fill=\"none\" stroke=\"#000000\" d=\"M629.6061,-192.9465C628.1765,-184.6863 626.6276,-175.7374 625.1305,-167.0875\"/>\n<polygon fill=\"#000000\" stroke=\"#000000\" points=\"628.5613,-166.3866 623.4071,-157.13 621.6639,-167.5804 628.5613,-166.3866\"/>\n</g>\n<!-- 15 -->\n<g id=\"node16\" class=\"node\">\n<title>15</title>\n<path fill=\"none\" stroke=\"#000000\" d=\"M816,-149.5C816,-149.5 733,-149.5 733,-149.5 727,-149.5 721,-143.5 721,-137.5 721,-137.5 721,-108.5 721,-108.5 721,-102.5 727,-96.5 733,-96.5 733,-96.5 816,-96.5 816,-96.5 822,-96.5 828,-102.5 828,-108.5 828,-108.5 828,-137.5 828,-137.5 828,-143.5 822,-149.5 816,-149.5\"/>\n<text text-anchor=\"middle\" x=\"774.5\" y=\"-134.3\" font-family=\"Helvetica,sans-Serif\" font-size=\"14.00\" fill=\"#000000\">gini = 0.4</text>\n<text text-anchor=\"middle\" x=\"774.5\" y=\"-119.3\" font-family=\"Helvetica,sans-Serif\" font-size=\"14.00\" fill=\"#000000\">samples = 15</text>\n<text text-anchor=\"middle\" x=\"774.5\" y=\"-104.3\" font-family=\"Helvetica,sans-Serif\" font-size=\"14.00\" fill=\"#000000\">value = [7, 17]</text>\n</g>\n<!-- 11&#45;&gt;15 -->\n<g id=\"edge15\" class=\"edge\">\n<title>11&#45;&gt;15</title>\n<path fill=\"none\" stroke=\"#000000\" d=\"M681.0138,-192.9465C697.0606,-180.9403 715.0519,-167.4791 730.9339,-155.5962\"/>\n<polygon fill=\"#000000\" stroke=\"#000000\" points=\"733.1152,-158.3354 739.0254,-149.5422 728.9217,-152.7306 733.1152,-158.3354\"/>\n</g>\n<!-- 13 -->\n<g id=\"node14\" class=\"node\">\n<title>13</title>\n<path fill=\"none\" stroke=\"#000000\" d=\"M596,-53C596,-53 513,-53 513,-53 507,-53 501,-47 501,-41 501,-41 501,-12 501,-12 501,-6 507,0 513,0 513,0 596,0 596,0 602,0 608,-6 608,-12 608,-12 608,-41 608,-41 608,-47 602,-53 596,-53\"/>\n<text text-anchor=\"middle\" x=\"554.5\" y=\"-37.8\" font-family=\"Helvetica,sans-Serif\" font-size=\"14.00\" fill=\"#000000\">gini = 0.3</text>\n<text text-anchor=\"middle\" x=\"554.5\" y=\"-22.8\" font-family=\"Helvetica,sans-Serif\" font-size=\"14.00\" fill=\"#000000\">samples = 8</text>\n<text text-anchor=\"middle\" x=\"554.5\" y=\"-7.8\" font-family=\"Helvetica,sans-Serif\" font-size=\"14.00\" fill=\"#000000\">value = [10, 2]</text>\n</g>\n<!-- 12&#45;&gt;13 -->\n<g id=\"edge13\" class=\"edge\">\n<title>12&#45;&gt;13</title>\n<path fill=\"none\" stroke=\"#000000\" d=\"M595.2886,-88.9777C589.5496,-80.187 583.3588,-70.7044 577.5767,-61.8477\"/>\n<polygon fill=\"#000000\" stroke=\"#000000\" points=\"580.3602,-59.7087 571.9627,-53.2485 574.4987,-63.5354 580.3602,-59.7087\"/>\n</g>\n<!-- 14 -->\n<g id=\"node15\" class=\"node\">\n<title>14</title>\n<path fill=\"none\" stroke=\"#000000\" d=\"M721,-53C721,-53 638,-53 638,-53 632,-53 626,-47 626,-41 626,-41 626,-12 626,-12 626,-6 632,0 638,0 638,0 721,0 721,0 727,0 733,-6 733,-12 733,-12 733,-41 733,-41 733,-47 727,-53 721,-53\"/>\n<text text-anchor=\"middle\" x=\"679.5\" y=\"-37.8\" font-family=\"Helvetica,sans-Serif\" font-size=\"14.00\" fill=\"#000000\">gini = 0.0</text>\n<text text-anchor=\"middle\" x=\"679.5\" y=\"-22.8\" font-family=\"Helvetica,sans-Serif\" font-size=\"14.00\" fill=\"#000000\">samples = 43</text>\n<text text-anchor=\"middle\" x=\"679.5\" y=\"-7.8\" font-family=\"Helvetica,sans-Serif\" font-size=\"14.00\" fill=\"#000000\">value = [72, 1]</text>\n</g>\n<!-- 12&#45;&gt;14 -->\n<g id=\"edge14\" class=\"edge\">\n<title>12&#45;&gt;14</title>\n<path fill=\"none\" stroke=\"#000000\" d=\"M639.3589,-88.9777C645.0068,-80.187 651.0993,-70.7044 656.7896,-61.8477\"/>\n<polygon fill=\"#000000\" stroke=\"#000000\" points=\"659.8537,-63.5536 662.3144,-53.2485 653.9644,-59.7698 659.8537,-63.5536\"/>\n</g>\n<!-- 17 -->\n<g id=\"node18\" class=\"node\">\n<title>17</title>\n<path fill=\"none\" stroke=\"#000000\" d=\"M832,-365C832,-365 749,-365 749,-365 743,-365 737,-359 737,-353 737,-353 737,-309 737,-309 737,-303 743,-297 749,-297 749,-297 832,-297 832,-297 838,-297 844,-303 844,-309 844,-309 844,-353 844,-353 844,-359 838,-365 832,-365\"/>\n<text text-anchor=\"middle\" x=\"790.5\" y=\"-349.8\" font-family=\"Helvetica,sans-Serif\" font-size=\"14.00\" fill=\"#000000\">Age &lt;= 1.0</text>\n<text text-anchor=\"middle\" x=\"790.5\" y=\"-334.8\" font-family=\"Helvetica,sans-Serif\" font-size=\"14.00\" fill=\"#000000\">gini = 0.4</text>\n<text text-anchor=\"middle\" x=\"790.5\" y=\"-319.8\" font-family=\"Helvetica,sans-Serif\" font-size=\"14.00\" fill=\"#000000\">samples = 21</text>\n<text text-anchor=\"middle\" x=\"790.5\" y=\"-304.8\" font-family=\"Helvetica,sans-Serif\" font-size=\"14.00\" fill=\"#000000\">value = [8, 27]</text>\n</g>\n<!-- 16&#45;&gt;17 -->\n<g id=\"edge17\" class=\"edge\">\n<title>16&#45;&gt;17</title>\n<path fill=\"none\" stroke=\"#000000\" d=\"M790.5,-400.9465C790.5,-392.776 790.5,-383.9318 790.5,-375.3697\"/>\n<polygon fill=\"#000000\" stroke=\"#000000\" points=\"794.0001,-375.13 790.5,-365.13 787.0001,-375.13 794.0001,-375.13\"/>\n</g>\n<!-- 20 -->\n<g id=\"node21\" class=\"node\">\n<title>20</title>\n<path fill=\"none\" stroke=\"#000000\" d=\"M957,-357.5C957,-357.5 874,-357.5 874,-357.5 868,-357.5 862,-351.5 862,-345.5 862,-345.5 862,-316.5 862,-316.5 862,-310.5 868,-304.5 874,-304.5 874,-304.5 957,-304.5 957,-304.5 963,-304.5 969,-310.5 969,-316.5 969,-316.5 969,-345.5 969,-345.5 969,-351.5 963,-357.5 957,-357.5\"/>\n<text text-anchor=\"middle\" x=\"915.5\" y=\"-342.3\" font-family=\"Helvetica,sans-Serif\" font-size=\"14.00\" fill=\"#000000\">gini = 0.0</text>\n<text text-anchor=\"middle\" x=\"915.5\" y=\"-327.3\" font-family=\"Helvetica,sans-Serif\" font-size=\"14.00\" fill=\"#000000\">samples = 20</text>\n<text text-anchor=\"middle\" x=\"915.5\" y=\"-312.3\" font-family=\"Helvetica,sans-Serif\" font-size=\"14.00\" fill=\"#000000\">value = [0, 32]</text>\n</g>\n<!-- 16&#45;&gt;20 -->\n<g id=\"edge20\" class=\"edge\">\n<title>16&#45;&gt;20</title>\n<path fill=\"none\" stroke=\"#000000\" d=\"M831.4297,-400.9465C845.5955,-389.1606 861.4463,-375.9726 875.5338,-364.2519\"/>\n<polygon fill=\"#000000\" stroke=\"#000000\" points=\"878.1496,-366.6285 883.5984,-357.5422 873.6725,-361.2474 878.1496,-366.6285\"/>\n</g>\n<!-- 18 -->\n<g id=\"node19\" class=\"node\">\n<title>18</title>\n<path fill=\"none\" stroke=\"#000000\" d=\"M832,-253.5C832,-253.5 749,-253.5 749,-253.5 743,-253.5 737,-247.5 737,-241.5 737,-241.5 737,-212.5 737,-212.5 737,-206.5 743,-200.5 749,-200.5 749,-200.5 832,-200.5 832,-200.5 838,-200.5 844,-206.5 844,-212.5 844,-212.5 844,-241.5 844,-241.5 844,-247.5 838,-253.5 832,-253.5\"/>\n<text text-anchor=\"middle\" x=\"790.5\" y=\"-238.3\" font-family=\"Helvetica,sans-Serif\" font-size=\"14.00\" fill=\"#000000\">gini = 0.2</text>\n<text text-anchor=\"middle\" x=\"790.5\" y=\"-223.3\" font-family=\"Helvetica,sans-Serif\" font-size=\"14.00\" fill=\"#000000\">samples = 11</text>\n<text text-anchor=\"middle\" x=\"790.5\" y=\"-208.3\" font-family=\"Helvetica,sans-Serif\" font-size=\"14.00\" fill=\"#000000\">value = [2, 15]</text>\n</g>\n<!-- 17&#45;&gt;18 -->\n<g id=\"edge18\" class=\"edge\">\n<title>17&#45;&gt;18</title>\n<path fill=\"none\" stroke=\"#000000\" d=\"M790.5,-296.9465C790.5,-286.2621 790.5,-274.4254 790.5,-263.5742\"/>\n<polygon fill=\"#000000\" stroke=\"#000000\" points=\"794.0001,-263.5421 790.5,-253.5422 787.0001,-263.5422 794.0001,-263.5421\"/>\n</g>\n<!-- 19 -->\n<g id=\"node20\" class=\"node\">\n<title>19</title>\n<path fill=\"none\" stroke=\"#000000\" d=\"M957,-253.5C957,-253.5 874,-253.5 874,-253.5 868,-253.5 862,-247.5 862,-241.5 862,-241.5 862,-212.5 862,-212.5 862,-206.5 868,-200.5 874,-200.5 874,-200.5 957,-200.5 957,-200.5 963,-200.5 969,-206.5 969,-212.5 969,-212.5 969,-241.5 969,-241.5 969,-247.5 963,-253.5 957,-253.5\"/>\n<text text-anchor=\"middle\" x=\"915.5\" y=\"-238.3\" font-family=\"Helvetica,sans-Serif\" font-size=\"14.00\" fill=\"#000000\">gini = 0.4</text>\n<text text-anchor=\"middle\" x=\"915.5\" y=\"-223.3\" font-family=\"Helvetica,sans-Serif\" font-size=\"14.00\" fill=\"#000000\">samples = 10</text>\n<text text-anchor=\"middle\" x=\"915.5\" y=\"-208.3\" font-family=\"Helvetica,sans-Serif\" font-size=\"14.00\" fill=\"#000000\">value = [6, 12]</text>\n</g>\n<!-- 17&#45;&gt;19 -->\n<g id=\"edge19\" class=\"edge\">\n<title>17&#45;&gt;19</title>\n<path fill=\"none\" stroke=\"#000000\" d=\"M831.4297,-296.9465C845.5955,-285.1606 861.4463,-271.9726 875.5338,-260.2519\"/>\n<polygon fill=\"#000000\" stroke=\"#000000\" points=\"878.1496,-262.6285 883.5984,-253.5422 873.6725,-257.2474 878.1496,-262.6285\"/>\n</g>\n</g>\n</svg>\n"
          },
          "metadata": {
            "tags": []
          },
          "execution_count": 72
        }
      ]
    },
    {
      "cell_type": "markdown",
      "metadata": {
        "id": "o7VKXMBTb0nC"
      },
      "source": [
        "# Saving Model"
      ]
    },
    {
      "cell_type": "code",
      "metadata": {
        "id": "XL35leRk6M17"
      },
      "source": [
        "# Exporting model\n",
        "import pickle\n",
        "pickle.dump(model,open('model.pkl','wb'))"
      ],
      "execution_count": 73,
      "outputs": []
    },
    {
      "cell_type": "code",
      "metadata": {
        "id": "D-OddvcF6M19",
        "colab": {
          "base_uri": "https://localhost:8080/"
        },
        "outputId": "bd150b1a-add4-4da8-d956-9b08edb74ace"
      },
      "source": [
        "# Import & Predict\n",
        "model=pickle.load(open('model.pkl','rb'))\n",
        "model.predict(sc.fit_transform([[1,34,1900]]))"
      ],
      "execution_count": 74,
      "outputs": [
        {
          "output_type": "execute_result",
          "data": {
            "text/plain": [
              "array([0])"
            ]
          },
          "metadata": {
            "tags": []
          },
          "execution_count": 74
        }
      ]
    },
    {
      "cell_type": "markdown",
      "metadata": {
        "id": "gEujkLi4fXdJ"
      },
      "source": [
        "**Where 0 is Not Purchased** \n",
        "\n",
        "**And 1 is Purchased**"
      ]
    },
    {
      "cell_type": "markdown",
      "metadata": {
        "id": "mKMKcTMHfJdh"
      },
      "source": [
        "## Let's Deploy our model!\n",
        "\n",
        "We technically need a server to deploy our application but what we are using is also a server! YES a free VM provided by Google; \n",
        "\n",
        "So, What we can do is expose it to a public URL using ngrok and make API for our model using FLASK."
      ]
    },
    {
      "cell_type": "code",
      "metadata": {
        "id": "IFa40IBheiBU",
        "colab": {
          "base_uri": "https://localhost:8080/"
        },
        "outputId": "b933396b-f29e-45fc-b04d-8b8a891c7b58"
      },
      "source": [
        "!pip install flask-ngrok"
      ],
      "execution_count": 75,
      "outputs": [
        {
          "output_type": "stream",
          "text": [
            "Requirement already satisfied: flask-ngrok in /usr/local/lib/python3.7/dist-packages (0.0.25)\n",
            "Requirement already satisfied: requests in /usr/local/lib/python3.7/dist-packages (from flask-ngrok) (2.23.0)\n",
            "Requirement already satisfied: Flask>=0.8 in /usr/local/lib/python3.7/dist-packages (from flask-ngrok) (1.1.2)\n",
            "Requirement already satisfied: chardet<4,>=3.0.2 in /usr/local/lib/python3.7/dist-packages (from requests->flask-ngrok) (3.0.4)\n",
            "Requirement already satisfied: certifi>=2017.4.17 in /usr/local/lib/python3.7/dist-packages (from requests->flask-ngrok) (2020.12.5)\n",
            "Requirement already satisfied: urllib3!=1.25.0,!=1.25.1,<1.26,>=1.21.1 in /usr/local/lib/python3.7/dist-packages (from requests->flask-ngrok) (1.24.3)\n",
            "Requirement already satisfied: idna<3,>=2.5 in /usr/local/lib/python3.7/dist-packages (from requests->flask-ngrok) (2.10)\n",
            "Requirement already satisfied: click>=5.1 in /usr/local/lib/python3.7/dist-packages (from Flask>=0.8->flask-ngrok) (7.1.2)\n",
            "Requirement already satisfied: itsdangerous>=0.24 in /usr/local/lib/python3.7/dist-packages (from Flask>=0.8->flask-ngrok) (1.1.0)\n",
            "Requirement already satisfied: Werkzeug>=0.15 in /usr/local/lib/python3.7/dist-packages (from Flask>=0.8->flask-ngrok) (1.0.1)\n",
            "Requirement already satisfied: Jinja2>=2.10.1 in /usr/local/lib/python3.7/dist-packages (from Flask>=0.8->flask-ngrok) (2.11.3)\n",
            "Requirement already satisfied: MarkupSafe>=0.23 in /usr/local/lib/python3.7/dist-packages (from Jinja2>=2.10.1->Flask>=0.8->flask-ngrok) (1.1.1)\n"
          ],
          "name": "stdout"
        }
      ]
    },
    {
      "cell_type": "code",
      "metadata": {
        "id": "HHBaot3afl1m",
        "colab": {
          "base_uri": "https://localhost:8080/"
        },
        "outputId": "aa835cdf-e590-4a12-eda3-b83e6033e898"
      },
      "source": [
        "from flask import Flask, jsonify, make_response, request\n",
        "from flask_ngrok import run_with_ngrok\n",
        "\n",
        "app = Flask(__name__)\n",
        "run_with_ngrok(app)\n",
        "\n",
        "@app.route(\"/\")\n",
        "def putStatus():\n",
        "    return \"Status: Running and Active...\"\n",
        "\n",
        "@app.route('/predict',methods=['POST'])\n",
        "def getPredictions():\n",
        "  data = request.get_json(force=True)\n",
        "  gender = str(data['Gender'])\n",
        "  age = str(data['Age'])\n",
        "  sal = str(data['Salary'])\n",
        "  test = np.array([[gender,age,sal]])\n",
        "  model=pickle.load(open('model.pkl','rb'))\n",
        "  prediction = model.predict(sc.fit_transform(test))\n",
        "  output = prediction[0]\n",
        "  if (output == 0):\n",
        "    return \"He/She's not gonna purchase it!\"\n",
        "  else :\n",
        "    return \"He/She's gonna purchase it!\"\n",
        "app.run()"
      ],
      "execution_count": 76,
      "outputs": [
        {
          "output_type": "stream",
          "text": [
            " * Serving Flask app \"__main__\" (lazy loading)\n",
            " * Environment: production\n",
            "\u001b[31m   WARNING: This is a development server. Do not use it in a production deployment.\u001b[0m\n",
            "\u001b[2m   Use a production WSGI server instead.\u001b[0m\n",
            " * Debug mode: off\n"
          ],
          "name": "stdout"
        },
        {
          "output_type": "stream",
          "text": [
            " * Running on http://127.0.0.1:5000/ (Press CTRL+C to quit)\n"
          ],
          "name": "stderr"
        },
        {
          "output_type": "stream",
          "text": [
            " * Running on http://923e9488a98e.ngrok.io\n",
            " * Traffic stats available on http://127.0.0.1:4040\n"
          ],
          "name": "stdout"
        },
        {
          "output_type": "stream",
          "text": [
            "127.0.0.1 - - [28/Feb/2021 20:09:03] \"\u001b[37mPOST /predict HTTP/1.1\u001b[0m\" 200 -\n",
            "127.0.0.1 - - [28/Feb/2021 20:09:16] \"\u001b[37mPOST /predict HTTP/1.1\u001b[0m\" 200 -\n"
          ],
          "name": "stderr"
        }
      ]
    },
    {
      "cell_type": "markdown",
      "metadata": {
        "id": "cJfY5fA7f-Vh"
      },
      "source": [
        "## Open New Colab Window -> file -> New Notebook"
      ]
    },
    {
      "cell_type": "code",
      "metadata": {
        "id": "7qAjLJP5gUPM"
      },
      "source": [
        "#paste this code there\n",
        "\n",
        "import requests, json\n",
        "\n",
        "url = '[replace this with URL above]/predict'\n",
        "req = requests.post(url, json={'Age':30, 'Salary':150000, 'Gender':1})\n",
        "\n",
        "print(req.status_code)\n",
        "print(req.text)"
      ],
      "execution_count": null,
      "outputs": []
    },
    {
      "cell_type": "markdown",
      "metadata": {
        "id": "Zh1mIN_EfGkA"
      },
      "source": [
        "@Author [Ali Mustufa](https://www.iali.dev) "
      ]
    }
  ]
}