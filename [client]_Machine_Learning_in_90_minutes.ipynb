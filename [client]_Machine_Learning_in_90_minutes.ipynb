{
  "nbformat": 4,
  "nbformat_minor": 0,
  "metadata": {
    "colab": {
      "name": "[client] Machine Learning in 90 minutes ",
      "provenance": []
    },
    "kernelspec": {
      "name": "python3",
      "display_name": "Python 3"
    }
  },
  "cells": [
    {
      "cell_type": "code",
      "metadata": {
        "id": "F3Ywd0bcgL8x",
        "outputId": "ba4e64d5-7519-42eb-cf0b-63b1de4a3526",
        "colab": {
          "base_uri": "https://localhost:8080/",
          "height": 50
        }
      },
      "source": [
        "import requests, json\n",
        "\n",
        "url = 'http://7adbf321f618.ngrok.io/predict'\n",
        "req = requests.post(url, json={'Gender':1, 'Age':30, 'Salary':150000, 'Gender':1})\n",
        "\n",
        "print(req.status_code)\n",
        "print(req.text)"
      ],
      "execution_count": 1,
      "outputs": [
        {
          "output_type": "stream",
          "text": [
            "200\n",
            "He/She's gonna purchase it!\n"
          ],
          "name": "stdout"
        }
      ]
    },
    {
      "cell_type": "code",
      "metadata": {
        "id": "S31tHJrrgqQJ"
      },
      "source": [
        ""
      ],
      "execution_count": null,
      "outputs": []
    }
  ]
}
